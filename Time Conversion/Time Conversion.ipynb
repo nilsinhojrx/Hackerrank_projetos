{
 "cells": [
  {
   "cell_type": "markdown",
   "id": "1c586c92",
   "metadata": {},
   "source": [
    "##  Passos do algoritmo:\n",
    "\n",
    "-> Analisar a hora\n",
    "-> Analisar o código (AM/PM)\n",
    "-> Mudar:\n",
    "    12 e AM = 00\n",
    "    < 12 e PM = hora + 12, tirar o PM\n",
    "    resto = tirar o codigo (AM/PM)\n",
    "    \n",
    "    "
   ]
  },
  {
   "cell_type": "code",
   "execution_count": 14,
   "id": "cf6b2624",
   "metadata": {},
   "outputs": [],
   "source": [
    "def timeConversion(s):\n",
    "    # Write your code here\n",
    "    cod = s.split(\":\")[2][2:]\n",
    "    hora, minuto, segundo = s.split(\":\")\n",
    "    if int(hora) < 12  and cod == \"PM\":\n",
    "        return f\"{int(hora) + 12}:{minuto}:{segundo[0:2]}\"\n",
    "    elif int(hora) == 12 and cod == \"AM\":\n",
    "        return f\"00:{minuto}:{segundo[0:2]}\"\n",
    "    else:\n",
    "        return f\"{hora}:{minuto}:{segundo[0:2]}\"\n",
    "        "
   ]
  },
  {
   "cell_type": "code",
   "execution_count": 15,
   "id": "f052fa0f",
   "metadata": {},
   "outputs": [],
   "source": [
    "hora = \"06:01:45PM\""
   ]
  },
  {
   "cell_type": "code",
   "execution_count": 16,
   "id": "3a763993",
   "metadata": {},
   "outputs": [],
   "source": [
    "hora2 = \"12:35:58AM\""
   ]
  },
  {
   "cell_type": "code",
   "execution_count": 19,
   "id": "72e7f8ff",
   "metadata": {},
   "outputs": [],
   "source": [
    "hora3 = \"06:01:45AM\""
   ]
  },
  {
   "cell_type": "code",
   "execution_count": 17,
   "id": "b85aa8c5",
   "metadata": {},
   "outputs": [
    {
     "data": {
      "text/plain": [
       "'18:01:45'"
      ]
     },
     "execution_count": 17,
     "metadata": {},
     "output_type": "execute_result"
    }
   ],
   "source": [
    "timeConversion(hora)"
   ]
  },
  {
   "cell_type": "code",
   "execution_count": 18,
   "id": "79c53ff3",
   "metadata": {},
   "outputs": [
    {
     "data": {
      "text/plain": [
       "'00:35:58'"
      ]
     },
     "execution_count": 18,
     "metadata": {},
     "output_type": "execute_result"
    }
   ],
   "source": [
    "timeConversion(hora2)"
   ]
  },
  {
   "cell_type": "code",
   "execution_count": 20,
   "id": "e5fa3733",
   "metadata": {},
   "outputs": [
    {
     "data": {
      "text/plain": [
       "'06:01:45'"
      ]
     },
     "execution_count": 20,
     "metadata": {},
     "output_type": "execute_result"
    }
   ],
   "source": [
    "timeConversion(hora3)"
   ]
  },
  {
   "cell_type": "code",
   "execution_count": null,
   "id": "bcffd78b",
   "metadata": {},
   "outputs": [],
   "source": []
  }
 ],
 "metadata": {
  "kernelspec": {
   "display_name": "Python 3 (ipykernel)",
   "language": "python",
   "name": "python3"
  },
  "language_info": {
   "codemirror_mode": {
    "name": "ipython",
    "version": 3
   },
   "file_extension": ".py",
   "mimetype": "text/x-python",
   "name": "python",
   "nbconvert_exporter": "python",
   "pygments_lexer": "ipython3",
   "version": "3.11.4"
  }
 },
 "nbformat": 4,
 "nbformat_minor": 5
}
