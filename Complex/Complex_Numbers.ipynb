{
  "nbformat": 4,
  "nbformat_minor": 0,
  "metadata": {
    "colab": {
      "provenance": []
    },
    "kernelspec": {
      "name": "python3",
      "display_name": "Python 3"
    },
    "language_info": {
      "name": "python"
    }
  },
  "cells": [
    {
      "cell_type": "code",
      "source": [
        "from math import atan, acos,asin, degrees, radians, sqrt, cos, sin"
      ],
      "metadata": {
        "id": "FMut3NHY-bRk"
      },
      "execution_count": null,
      "outputs": []
    },
    {
      "cell_type": "code",
      "execution_count": null,
      "metadata": {
        "id": "F4tr-q4r8-4s"
      },
      "outputs": [],
      "source": [
        "# Classe qpara npumeros complexos\n",
        "class Complex(object):\n",
        "    def __init__(self, real, imaginary):\n",
        "        self.real = real\n",
        "        self.imaginary = imaginary\n",
        "\n",
        "    def conjugate(self):\n",
        "        imaginary = (-1)*self.imaginary\n",
        "        real = self.real\n",
        "        return Complex(real, imaginary)\n",
        "\n",
        "    def __add__(self, no):\n",
        "        real = self.real + no.real\n",
        "        imag = self.imaginary + no.imaginary\n",
        "        #add = Complex(real,imag)\n",
        "        return Complex(real,imag)\n",
        "\n",
        "    def __sub__(self, no):\n",
        "        real = self.real - no.real\n",
        "        imag = self.imaginary - no.imaginary\n",
        "        #sub = Complex(real, imag)\n",
        "        return Complex(real, imag)\n",
        "\n",
        "    def __mul__(self, no):\n",
        "        real = self.real*no.real + (-1)*self.imaginary*no.imaginary\n",
        "        imag = self.real*no.imaginary + self.imaginary*no.real\n",
        "        #mult = Complex(real, imag)\n",
        "        return Complex(real, imag)\n",
        "\n",
        "    def __truediv__(self, no):\n",
        "        if not (no.real == 0 and no.imaginary == 0):\n",
        "            conj = no.conjugate()\n",
        "            num = self.__mul__(conj)\n",
        "            den = no*conj\n",
        "            real = num.real/den.real\n",
        "            imag = num.imaginary/den.real\n",
        "            div = Complex(real, imag)\n",
        "            return div\n",
        "        else:\n",
        "            return \"Error\"\n",
        "\n",
        "    def mod(self):\n",
        "      return sqrt( (self.real)**2 + (self.imaginary)**2 )\n",
        "\n",
        "    def polar(self):\n",
        "      module = self.mod().real\n",
        "      imag = self.imaginary\n",
        "      real = self.real\n",
        "      if(real != 0):\n",
        "        angle = degrees(atan(imag/real))\n",
        "      else:\n",
        "        angle = degrees(asin(imag/module))\n",
        "      return module, angle\n",
        "\n",
        "    def __str__(self):\n",
        "        if self.imaginary == 0:\n",
        "            result = \"%.2f+0.00i\" % (self.real)\n",
        "        elif self.real == 0:\n",
        "            if self.imaginary >= 0:\n",
        "                result = \"0.00+%.2fi\" % (self.imaginary)\n",
        "            else:\n",
        "                result = \"0.00-%.2fi\" % (abs(self.imaginary))\n",
        "        elif self.imaginary > 0:\n",
        "            result = \"%.2f+%.2fi\" % (self.real, self.imaginary)\n",
        "        else:\n",
        "            result = \"%.2f-%.2fi\" % (self.real, abs(self.imaginary))\n",
        "        return result\n",
        "\n"
      ]
    }
  ]
}